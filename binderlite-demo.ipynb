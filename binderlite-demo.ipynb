{
 "cells": [
  {
   "cell_type": "markdown",
   "metadata": {},
   "source": [
    "# Binderlite Demo\n",
    "\n",
    "![Binderlite](https://raw.githubusercontent.com/jgarte/binderlite-example/main/deploy-with-guix-badge.svg)\n",
    "\n",
    "Project source code: [binderlite-demo](https://git.sr.ht/~jgart/binderlite-demo).\n",
    "\n",
    "Example Binderlite Repository: [binderlite-example](https://github.com/jgarte/binderlite-example)."
   ]
  },
  {
   "cell_type": "markdown",
   "metadata": {},
   "source": [
    "---\n",
    "\n",
    "## Using IPython\n",
    "\n",
    "### Create an environment with IPython"
   ]
  },
  {
   "cell_type": "code",
   "execution_count": 1,
   "metadata": {},
   "outputs": [
    {
     "data": {
      "text/html": [
       "<div><h3 style=\"color: green;\">Preparing environment <tt>my-ipython</tt> with these packages:</h3><ul><li><tt>python-ipython 7.9.0</tt></li><li><tt>python-ipykernel 5.5.3</tt></li></ul></div>"
      ]
     },
     "execution_count": 1,
     "metadata": {},
     "output_type": "execute_result"
    },
    {
     "data": {
      "text/html": [
       "Done!"
      ]
     },
     "metadata": {},
     "output_type": "display_data"
    },
    {
     "data": {
      "text/html": [
       "<div>Running Python 3 kernel.</div>"
      ]
     },
     "execution_count": 0,
     "metadata": {},
     "output_type": "execute_result"
    }
   ],
   "source": [
    ";;guix environment my-ipython <- python-ipython python-ipykernel"
   ]
  },
  {
   "cell_type": "markdown",
   "metadata": {},
   "source": [
    "---\n",
    "\n",
    "### Run code in the IPython kernel"
   ]
  },
  {
   "cell_type": "code",
   "execution_count": 2,
   "metadata": {},
   "outputs": [
    {
     "name": "stdout",
     "output_type": "stream",
     "text": [
      "Hello Jupyter !\n"
     ]
    }
   ],
   "source": [
    ";;guix environment my-ipython\n",
    "# This is python lang !\n",
    "def hello ():\n",
    "    print (\"Hello Jupyter !\")\n",
    "    \n",
    "hello ()"
   ]
  },
  {
   "cell_type": "code",
   "execution_count": 3,
   "metadata": {},
   "outputs": [
    {
     "data": {
      "text/plain": [
       "'/home/jupyter'"
      ]
     },
     "execution_count": 3,
     "metadata": {},
     "output_type": "execute_result"
    }
   ],
   "source": [
    ";;guix environment my-ipython\n",
    "import os\n",
    "os.getcwd()"
   ]
  },
  {
   "cell_type": "code",
   "execution_count": 4,
   "metadata": {},
   "outputs": [
    {
     "data": {
      "text/plain": [
       "1000"
      ]
     },
     "execution_count": 4,
     "metadata": {},
     "output_type": "execute_result"
    }
   ],
   "source": [
    "os.getuid()"
   ]
  },
  {
   "cell_type": "code",
   "execution_count": 5,
   "metadata": {},
   "outputs": [
    {
     "data": {
      "text/plain": [
       "1"
      ]
     },
     "execution_count": 5,
     "metadata": {},
     "output_type": "execute_result"
    }
   ],
   "source": [
    "os.getpid()"
   ]
  },
  {
   "cell_type": "code",
   "execution_count": 6,
   "metadata": {},
   "outputs": [
    {
     "data": {
      "text/plain": [
       "['tmp', 'etc', 'home', 'gnu', 'dev', 'proc']"
      ]
     },
     "execution_count": 6,
     "metadata": {},
     "output_type": "execute_result"
    }
   ],
   "source": [
    "os.listdir('/')"
   ]
  },
  {
   "cell_type": "markdown",
   "metadata": {},
   "source": [
    "## A Matplotlib environment"
   ]
  },
  {
   "cell_type": "code",
   "execution_count": 9,
   "metadata": {},
   "outputs": [
    {
     "data": {
      "text/html": [
       "<div><h3 style=\"color: green;\">Preparing environment <tt>matplotlib-env</tt> with these packages:</h3><ul><li><tt>python-ipython 7.9.0</tt></li><li><tt>python-ipykernel 5.5.3</tt></li><li><tt>python-ipywidgets 7.6.3</tt></li><li><tt>python-matplotlib 3.1.2</tt></li></ul></div>"
      ]
     },
     "execution_count": 9,
     "metadata": {},
     "output_type": "execute_result"
    },
    {
     "data": {
      "text/html": [
       "Done!"
      ]
     },
     "metadata": {},
     "output_type": "display_data"
    },
    {
     "data": {
      "text/html": [
       "<div>Running Python 3 kernel.</div>"
      ]
     },
     "execution_count": 8,
     "metadata": {},
     "output_type": "execute_result"
    }
   ],
   "source": [
    ";;guix environment matplotlib-env <- python-ipython python-ipykernel python-ipywidgets python-matplotlib"
   ]
  },
  {
   "cell_type": "code",
   "execution_count": 1,
   "metadata": {},
   "outputs": [
    {
     "data": {
      "image/png": "[encoded data removed]",
      "text/plain": [
       "<Figure size 432x288 with 1 Axes>"
      ]
     },
     "metadata": {
      "needs_background": "light"
     },
     "output_type": "display_data"
    }
   ],
   "source": [
    ";;guix environment matplotlib-env\n",
    "%matplotlib inline\n",
    "from matplotlib import pyplot as plt\n",
    "from matplotlib import style\n",
    "import random\n",
    "x = random.sample(range(1, 5000), 1000)\n",
    "num_bins = 100\n",
    "n, bins, patches = plt.hist(x, num_bins, facecolor='green', alpha=0.5)\n",
    "\n",
    "plt.title('Histogram Example')\n",
    "plt.xlabel('Values')\n",
    "plt.xlabel('Counts')\n",
    "plt.show() "
   ]
  }
 ],
 "metadata": {
  "kernelspec": {
   "display_name": "Guix",
   "language": "scheme",
   "name": "guix"
  },
  "language_info": {
   "codemirror_mode": "scheme",
   "file_extension": ".scm",
   "mimetype": "application/x-scheme",
   "name": "guile",
   "pygments_lexer": "scheme",
   "version": "3.0"
  }
 },
 "nbformat": 4,
 "nbformat_minor": 2
}
